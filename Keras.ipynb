{
 "cells": [
  {
   "cell_type": "markdown",
   "metadata": {},
   "source": [
    "### Keras"
   ]
  },
  {
   "cell_type": "markdown",
   "metadata": {},
   "source": [
    "Keras acts as a layer on top of tensorflow which makes it easier for us to do DL."
   ]
  },
  {
   "cell_type": "markdown",
   "metadata": {},
   "source": [
    "Keras is pretty easy. We just need to say make a model,add layers, etc."
   ]
  },
  {
   "cell_type": "markdown",
   "metadata": {},
   "source": [
    "There are 2 types of Model :\n",
    "    \n",
    "    1) Sequential Model - Give it I/P layer then hidden layers then O/P layer (Works for most Cases)\n",
    "    2) Functional API Model - When you have multiple I/P and O/P coming out at various stages"
   ]
  },
  {
   "cell_type": "markdown",
   "metadata": {},
   "source": [
    "#### Code"
   ]
  },
  {
   "cell_type": "code",
   "execution_count": null,
   "metadata": {},
   "outputs": [],
   "source": [
    "from keras.model import Sequential\n",
    "from keras.layers import Dense"
   ]
  },
  {
   "cell_type": "code",
   "execution_count": null,
   "metadata": {},
   "outputs": [],
   "source": [
    "model = Sequential()"
   ]
  },
  {
   "cell_type": "code",
   "execution_count": null,
   "metadata": {},
   "outputs": [],
   "source": [
    "# Add Layers like below. Just specify how many nodes in hidden layer(here random 32 is taken), actvation function,\n",
    "# and number of features in input.\n",
    "layer1 = Dense(units = 32,activation = 'relu',input_dim = 30)\n",
    "model.add(layer1)\n",
    "# Add second HiddenLayer\n",
    "model.add(Dense(units = 16,activation = 'relu'))\n",
    "# Add O/P Layer (units = 1 because O/P has 1 node.)\n",
    "model.add(Dense(units = 1,activation = 'sigmoid'))"
   ]
  },
  {
   "cell_type": "markdown",
   "metadata": {},
   "source": [
    "It's best to put a random number when deciding the number of nodes in the hidden Layer. A general thumb of rule is to take a number in between the number of I/P and Number of O/P\n",
    "\n",
    "Eg. In MNIST I/P was 728 and O/P was 10, so HL1 was taken as 256"
   ]
  },
  {
   "cell_type": "code",
   "execution_count": null,
   "metadata": {},
   "outputs": [],
   "source": [
    "model.compile( Optimizer = 'adam', loss = 'binary_crossentropy', metrics = ['accuracy'])"
   ]
  },
  {
   "cell_type": "markdown",
   "metadata": {},
   "source": [
    "1) Optamizer - can try out different. But the one used works for most.\n",
    "\n",
    "2) Loss Function - If regression can use mean square. If binary classification can use binary_crossentropy, if categorical classification like MNIST use categorical_crossentropy\n",
    "\n",
    "3) Metrics - If it's a classificaition problem pick accuracy. If it's a regression problem pick sum of squares to see how far away are values from each other"
   ]
  },
  {
   "cell_type": "code",
   "execution_count": null,
   "metadata": {},
   "outputs": [],
   "source": [
    "from sklearn import datasets\n",
    "cancer = datasets.load_breast_cancer()\n",
    "from sklearn.model_selection import train_test_split\n",
    "x_train,x_test,y_train,y_test = train_test_split(cancer.data, cancer.target, test_size = 0.2,random_state = 0)\n",
    "\n",
    "from sklearn.preprocessing import StandardScaler\n",
    "sc = StandardScaler()\n",
    "x_train = sc.fit_transform(x_train)\n",
    "x_test = sc.transform(x_test)"
   ]
  },
  {
   "cell_type": "code",
   "execution_count": null,
   "metadata": {},
   "outputs": [],
   "source": [
    "model.fit(x_train,y_train,epochs = 20,batch_size = 50, validation_data = (x_test,y_test))"
   ]
  },
  {
   "cell_type": "markdown",
   "metadata": {},
   "source": [
    "Epocs means how many times the model will train\n",
    "batch_size is same as in MNIST\n",
    "Validation Data - This shows us how the accuracy on testing data is without using the testing data at each iteration of the epoch"
   ]
  },
  {
   "cell_type": "code",
   "execution_count": null,
   "metadata": {},
   "outputs": [],
   "source": [
    "predictions = model.predict(x_test)\n",
    "score = model.evaluate(x_test,y_test)\n",
    "score"
   ]
  },
  {
   "cell_type": "markdown",
   "metadata": {},
   "source": [
    "Score - Format is -['value of loss funciton, accuracy']\n",
    "      - It gives us final accuracy. We got accuracy in the last step as well but if we want again we can get it through here\n",
    "      \n",
    "Predictions -  Predictions gives us the 'y' for a particular 'x'. Basically it is the Output of the Neural Layer"
   ]
  }
 ],
 "metadata": {
  "kernelspec": {
   "display_name": "Python 3",
   "language": "python",
   "name": "python3"
  },
  "language_info": {
   "codemirror_mode": {
    "name": "ipython",
    "version": 3
   },
   "file_extension": ".py",
   "mimetype": "text/x-python",
   "name": "python",
   "nbconvert_exporter": "python",
   "pygments_lexer": "ipython3",
   "version": "3.6.4"
  }
 },
 "nbformat": 4,
 "nbformat_minor": 2
}
